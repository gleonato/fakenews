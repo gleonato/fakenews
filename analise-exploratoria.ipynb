{
 "cells": [
  {
   "cell_type": "code",
   "execution_count": null,
   "metadata": {},
   "outputs": [],
   "source": [
    "import pandas as pd\n",
    "import matplotlib.pyplot as plt\n",
    "import seaborn as sns\n",
    "import numpy as np\n",
    "import colorsys\n",
    "%matplotlib inline"
   ]
  },
  {
   "cell_type": "code",
   "execution_count": null,
   "metadata": {},
   "outputs": [],
   "source": [
    "df = pd.read_csv('fake-br.csv', sep=';')"
   ]
  },
  {
   "cell_type": "code",
   "execution_count": 17,
   "metadata": {},
   "outputs": [
    {
     "data": {
      "text/html": [
       "<div>\n",
       "<style scoped>\n",
       "    .dataframe tbody tr th:only-of-type {\n",
       "        vertical-align: middle;\n",
       "    }\n",
       "\n",
       "    .dataframe tbody tr th {\n",
       "        vertical-align: top;\n",
       "    }\n",
       "\n",
       "    .dataframe thead th {\n",
       "        text-align: right;\n",
       "    }\n",
       "</style>\n",
       "<table border=\"1\" class=\"dataframe\">\n",
       "  <thead>\n",
       "    <tr style=\"text-align: right;\">\n",
       "      <th></th>\n",
       "      <th>Unnamed: 0</th>\n",
       "      <th>author</th>\n",
       "      <th>link</th>\n",
       "      <th>category</th>\n",
       "      <th>date_of_publication</th>\n",
       "      <th>number_of_tokens</th>\n",
       "      <th>number_of_words_without_punctuation</th>\n",
       "      <th>number_of_types</th>\n",
       "      <th>number_of_links_inside_the_news</th>\n",
       "      <th>number_of_words_in_upper_case</th>\n",
       "      <th>...</th>\n",
       "      <th>number_of_singular_first</th>\n",
       "      <th>number_of_plural_first</th>\n",
       "      <th>number_of_pronouns</th>\n",
       "      <th>pausality</th>\n",
       "      <th>number_of_characters</th>\n",
       "      <th>average_sentence_length</th>\n",
       "      <th>average_word_length</th>\n",
       "      <th>percentage_of_news</th>\n",
       "      <th>emotiveness</th>\n",
       "      <th>diversity</th>\n",
       "    </tr>\n",
       "  </thead>\n",
       "  <tbody>\n",
       "    <tr>\n",
       "      <th>0</th>\n",
       "      <td>0</td>\n",
       "      <td>None</td>\n",
       "      <td>https://www.diariodobrasil.org/o-menino-fugiu-...</td>\n",
       "      <td>politica</td>\n",
       "      <td>30/10/2016</td>\n",
       "      <td>212</td>\n",
       "      <td>191</td>\n",
       "      <td>125</td>\n",
       "      <td>1</td>\n",
       "      <td>3</td>\n",
       "      <td>...</td>\n",
       "      <td>0</td>\n",
       "      <td>0</td>\n",
       "      <td>9</td>\n",
       "      <td>1.90909</td>\n",
       "      <td>879</td>\n",
       "      <td>17.3636</td>\n",
       "      <td>4.60209</td>\n",
       "      <td>0.000000</td>\n",
       "      <td>0.142857</td>\n",
       "      <td>0.654450</td>\n",
       "    </tr>\n",
       "    <tr>\n",
       "      <th>1</th>\n",
       "      <td>1</td>\n",
       "      <td>None</td>\n",
       "      <td>http://www.topfivetv.com/2016/09/ex-piloto-e-e...</td>\n",
       "      <td>sociedade_cotidiano</td>\n",
       "      <td>2016-09-15</td>\n",
       "      <td>393</td>\n",
       "      <td>352</td>\n",
       "      <td>219</td>\n",
       "      <td>0</td>\n",
       "      <td>10</td>\n",
       "      <td>...</td>\n",
       "      <td>0</td>\n",
       "      <td>0</td>\n",
       "      <td>22</td>\n",
       "      <td>2.15789</td>\n",
       "      <td>1737</td>\n",
       "      <td>18.5263</td>\n",
       "      <td>4.93466</td>\n",
       "      <td>0.014204</td>\n",
       "      <td>0.154321</td>\n",
       "      <td>0.622159</td>\n",
       "    </tr>\n",
       "    <tr>\n",
       "      <th>2</th>\n",
       "      <td>2</td>\n",
       "      <td>None</td>\n",
       "      <td>https://www.diariodobrasil.org/coronel-da-forc...</td>\n",
       "      <td>politica</td>\n",
       "      <td>31/03/2016</td>\n",
       "      <td>482</td>\n",
       "      <td>422</td>\n",
       "      <td>244</td>\n",
       "      <td>0</td>\n",
       "      <td>7</td>\n",
       "      <td>...</td>\n",
       "      <td>6</td>\n",
       "      <td>0</td>\n",
       "      <td>48</td>\n",
       "      <td>2.72727</td>\n",
       "      <td>2060</td>\n",
       "      <td>19.1818</td>\n",
       "      <td>4.88152</td>\n",
       "      <td>0.000000</td>\n",
       "      <td>0.282353</td>\n",
       "      <td>0.578199</td>\n",
       "    </tr>\n",
       "    <tr>\n",
       "      <th>3</th>\n",
       "      <td>3</td>\n",
       "      <td>None</td>\n",
       "      <td>http://www.thejornalbrasil.com.br/2017/05/lula...</td>\n",
       "      <td>politica</td>\n",
       "      <td>2017-05-06</td>\n",
       "      <td>103</td>\n",
       "      <td>95</td>\n",
       "      <td>69</td>\n",
       "      <td>0</td>\n",
       "      <td>1</td>\n",
       "      <td>...</td>\n",
       "      <td>0</td>\n",
       "      <td>0</td>\n",
       "      <td>11</td>\n",
       "      <td>2.00000</td>\n",
       "      <td>491</td>\n",
       "      <td>23.7500</td>\n",
       "      <td>5.16842</td>\n",
       "      <td>0.010526</td>\n",
       "      <td>0.142857</td>\n",
       "      <td>0.726316</td>\n",
       "    </tr>\n",
       "    <tr>\n",
       "      <th>4</th>\n",
       "      <td>4</td>\n",
       "      <td>None</td>\n",
       "      <td>https://www.diariodobrasil.org/ao-retornar-da-...</td>\n",
       "      <td>sociedade_cotidiano</td>\n",
       "      <td>28/01/2018</td>\n",
       "      <td>169</td>\n",
       "      <td>141</td>\n",
       "      <td>101</td>\n",
       "      <td>0</td>\n",
       "      <td>2</td>\n",
       "      <td>...</td>\n",
       "      <td>0</td>\n",
       "      <td>0</td>\n",
       "      <td>8</td>\n",
       "      <td>1.86667</td>\n",
       "      <td>653</td>\n",
       "      <td>9.4000</td>\n",
       "      <td>4.63121</td>\n",
       "      <td>0.000000</td>\n",
       "      <td>0.268657</td>\n",
       "      <td>0.716312</td>\n",
       "    </tr>\n",
       "  </tbody>\n",
       "</table>\n",
       "<p>5 rows × 26 columns</p>\n",
       "</div>"
      ],
      "text/plain": [
       "   Unnamed: 0 author                                               link  \\\n",
       "0           0   None  https://www.diariodobrasil.org/o-menino-fugiu-...   \n",
       "1           1   None  http://www.topfivetv.com/2016/09/ex-piloto-e-e...   \n",
       "2           2   None  https://www.diariodobrasil.org/coronel-da-forc...   \n",
       "3           3   None  http://www.thejornalbrasil.com.br/2017/05/lula...   \n",
       "4           4   None  https://www.diariodobrasil.org/ao-retornar-da-...   \n",
       "\n",
       "              category date_of_publication  number_of_tokens  \\\n",
       "0             politica          30/10/2016               212   \n",
       "1  sociedade_cotidiano          2016-09-15               393   \n",
       "2             politica          31/03/2016               482   \n",
       "3             politica          2017-05-06               103   \n",
       "4  sociedade_cotidiano          28/01/2018               169   \n",
       "\n",
       "   number_of_words_without_punctuation  number_of_types  \\\n",
       "0                                  191              125   \n",
       "1                                  352              219   \n",
       "2                                  422              244   \n",
       "3                                   95               69   \n",
       "4                                  141              101   \n",
       "\n",
       "   number_of_links_inside_the_news  number_of_words_in_upper_case  ...  \\\n",
       "0                                1                              3  ...   \n",
       "1                                0                             10  ...   \n",
       "2                                0                              7  ...   \n",
       "3                                0                              1  ...   \n",
       "4                                0                              2  ...   \n",
       "\n",
       "   number_of_singular_first  number_of_plural_first  number_of_pronouns  \\\n",
       "0                         0                       0                   9   \n",
       "1                         0                       0                  22   \n",
       "2                         6                       0                  48   \n",
       "3                         0                       0                  11   \n",
       "4                         0                       0                   8   \n",
       "\n",
       "   pausality  number_of_characters  average_sentence_length  \\\n",
       "0    1.90909                   879                  17.3636   \n",
       "1    2.15789                  1737                  18.5263   \n",
       "2    2.72727                  2060                  19.1818   \n",
       "3    2.00000                   491                  23.7500   \n",
       "4    1.86667                   653                   9.4000   \n",
       "\n",
       "   average_word_length  percentage_of_news  emotiveness  diversity  \n",
       "0              4.60209            0.000000     0.142857   0.654450  \n",
       "1              4.93466            0.014204     0.154321   0.622159  \n",
       "2              4.88152            0.000000     0.282353   0.578199  \n",
       "3              5.16842            0.010526     0.142857   0.726316  \n",
       "4              4.63121            0.000000     0.268657   0.716312  \n",
       "\n",
       "[5 rows x 26 columns]"
      ]
     },
     "execution_count": 17,
     "metadata": {},
     "output_type": "execute_result"
    }
   ],
   "source": [
    "df.head()"
   ]
  },
  {
   "cell_type": "code",
   "execution_count": 18,
   "metadata": {},
   "outputs": [
    {
     "data": {
      "text/plain": [
       "Index(['Unnamed: 0', 'author', 'link', 'category', 'date_of_publication',\n",
       "       'number_of_tokens', 'number_of_words_without_punctuation',\n",
       "       'number_of_types', 'number_of_links_inside_the_news',\n",
       "       'number_of_words_in_upper_case', 'number_of_verbs',\n",
       "       'number_of_subjuntive_and_imperative_verbs', 'number_of_nouns',\n",
       "       'number_of_adjectives', 'number_of_adverbs', 'number_of_modal_verbs',\n",
       "       'number_of_singular_first', 'number_of_plural_first',\n",
       "       'number_of_pronouns', 'pausality', 'number_of_characters',\n",
       "       'average_sentence_length', 'average_word_length', 'percentage_of_news',\n",
       "       'emotiveness', 'diversity'],\n",
       "      dtype='object')"
      ]
     },
     "execution_count": 18,
     "metadata": {},
     "output_type": "execute_result"
    }
   ],
   "source": [
    "df.columns"
   ]
  },
  {
   "cell_type": "markdown",
   "metadata": {},
   "source": [
    "### Análise da qualidade do preenchimento da informação por Categoria da notícia"
   ]
  },
  {
   "cell_type": "code",
   "execution_count": 29,
   "metadata": {},
   "outputs": [
    {
     "data": {
      "text/plain": [
       "count         3600\n",
       "unique           6\n",
       "top       politica\n",
       "freq          2090\n",
       "Name: category, dtype: object"
      ]
     },
     "execution_count": 29,
     "metadata": {},
     "output_type": "execute_result"
    }
   ],
   "source": [
    "# Quantidade de Registros\n",
    "df['category'].describe()"
   ]
  },
  {
   "cell_type": "markdown",
   "metadata": {},
   "source": [
    "#### percebe-se que há 6 tipos distintos de categorias"
   ]
  },
  {
   "cell_type": "code",
   "execution_count": 28,
   "metadata": {},
   "outputs": [
    {
     "data": {
      "text/plain": [
       "0"
      ]
     },
     "execution_count": 28,
     "metadata": {},
     "output_type": "execute_result"
    }
   ],
   "source": [
    "# Quantidade de categorias não preenchidas\n",
    "df['category'].isna().sum()"
   ]
  },
  {
   "cell_type": "markdown",
   "metadata": {},
   "source": [
    "### Quantificando cada uma das 6 Categorias"
   ]
  },
  {
   "cell_type": "code",
   "execution_count": 20,
   "metadata": {},
   "outputs": [
    {
     "data": {
      "text/plain": [
       "politica               2090\n",
       "tv_celebridades         772\n",
       "sociedade_cotidiano     638\n",
       "ciencia_tecnologia       56\n",
       "economia                 22\n",
       "religiao                 22\n",
       "Name: category, dtype: int64"
      ]
     },
     "execution_count": 20,
     "metadata": {},
     "output_type": "execute_result"
    }
   ],
   "source": [
    "df['category'].value_counts()"
   ]
  },
  {
   "cell_type": "code",
   "execution_count": 21,
   "metadata": {},
   "outputs": [
    {
     "data": {
      "text/plain": [
       "<matplotlib.axes._subplots.AxesSubplot at 0x7f2a93143470>"
      ]
     },
     "execution_count": 21,
     "metadata": {},
     "output_type": "execute_result"
    },
    {
     "data": {
      "image/png": "[encoded data removed]",
      "text/plain": [
       "<Figure size 432x288 with 1 Axes>"
      ]
     },
     "metadata": {
      "needs_background": "light"
     },
     "output_type": "display_data"
    }
   ],
   "source": [
    "# Gráfico de Barras simples\n",
    "df['category'].value_counts().plot.bar()"
   ]
  },
  {
   "cell_type": "code",
   "execution_count": 22,
   "metadata": {},
   "outputs": [
    {
     "data": {
      "image/png": "[encoded data removed]",
      "text/plain": [
       "<Figure size 432x288 with 1 Axes>"
      ]
     },
     "metadata": {
      "needs_background": "light"
     },
     "output_type": "display_data"
    }
   ],
   "source": [
    "index = np.arange(len(df['category'].unique()))\n",
    "b = plt.bar(index, df['category'].value_counts())   \n",
    "b[0].set_color('r')\n",
    "b[1].set_color('y')\n",
    "b[2].set_color('g')\n",
    "b[3].set_color('k')\n",
    "b[4].set_color('c')\n",
    "b[5].set_color('b')\n",
    "plt.xticks(index, df['category'].unique(), rotation=75)\n",
    "plt.title('Gráfico das Categorias das Notícias Falsas')\n",
    "plt.xlabel('Categoria das Notícias')\n",
    "plt.ylabel('Número de Ocorrências')\n",
    "plt.show()"
   ]
  },
  {
   "cell_type": "markdown",
   "metadata": {},
   "source": [
    "#### Pelo Gráfico acima percebe-se que a maioria absoluta dos dados são sobre Política, seguidos de Sociedade e Cotidiano e de Tv e Celebridades"
   ]
  },
  {
   "cell_type": "code",
   "execution_count": 24,
   "metadata": {},
   "outputs": [
    {
     "data": {
      "image/png": "[encoded data removed]",
      "text/plain": [
       "<Figure size 432x288 with 1 Axes>"
      ]
     },
     "metadata": {},
     "output_type": "display_data"
    }
   ],
   "source": [
    "# Definindo a quantidade\n",
    "labels = df.category.value_counts().index\n",
    "\n",
    "# Contabilizando os elementos por cada um dos labels\n",
    "num = len(df.category.value_counts().index)\n",
    "\n",
    "# Criando a lista de cores\n",
    "listaHSV = [(x*1.0/num, 1.0, 1.0) for x in range(num)]\n",
    "listaRGB = list(map(lambda x: colorsys.hsv_to_rgb(*x), listaHSV))\n",
    "\n",
    "# Gráfico de Pizza\n",
    "fatias, texto = plt.pie(df.category.value_counts(), colors=listaRGB, startangle=90)\n",
    "plt.axes().set_aspect('equal', 'datalim')\n",
    "plt.legend(fatias, labels, bbox_to_anchor = (1.05,1))\n",
    "plt.title('Categorias das Notícias Falsas')\n",
    "plt.show()"
   ]
  },
  {
   "cell_type": "markdown",
   "metadata": {},
   "source": [
    "#### Pelo gráfico de pizza acima é possível ver que as notícias sobre Política representam mais de 50% de todas as notícias."
   ]
  },
  {
   "cell_type": "markdown",
   "metadata": {},
   "source": [
    "### Quais os números de Tokens das Notícias?"
   ]
  },
  {
   "cell_type": "code",
   "execution_count": 25,
   "metadata": {},
   "outputs": [
    {
     "data": {
      "image/png": "[encoded data removed]",
      "text/plain": [
       "<Figure size 432x288 with 1 Axes>"
      ]
     },
     "metadata": {
      "needs_background": "light"
     },
     "output_type": "display_data"
    }
   ],
   "source": [
    "# gerando um histograma\n",
    "df.number_of_tokens.hist(bins=200)\n",
    "plt.xlabel('Idade')\n",
    "plt.ylabel('Número de Tokensnnn')\n",
    "plt.title('Número de Tokens')\n",
    "plt.show()"
   ]
  },
  {
   "cell_type": "markdown",
   "metadata": {},
   "source": [
    "#### Através do histograma acima é possível visualizar que a grande parte do número de tokens nas notícias ficam entre 50 e 400 tokens, aproximadamente, com o maior pico de dados na região entre 100 e 150 tokens"
   ]
  },
  {
   "cell_type": "code",
   "execution_count": null,
   "metadata": {},
   "outputs": [],
   "source": []
  },
  {
   "cell_type": "code",
   "execution_count": null,
   "metadata": {},
   "outputs": [],
   "source": []
  },
  {
   "cell_type": "code",
   "execution_count": null,
   "metadata": {},
   "outputs": [],
   "source": []
  }
 ],
 "metadata": {
  "kernelspec": {
   "display_name": "Python 3",
   "language": "python",
   "name": "python3"
  },
  "language_info": {
   "codemirror_mode": {
    "name": "ipython",
    "version": 3
   },
   "file_extension": ".py",
   "mimetype": "text/x-python",
   "name": "python",
   "nbconvert_exporter": "python",
   "pygments_lexer": "ipython3",
   "version": "3.6.8"
  }
 },
 "nbformat": 4,
 "nbformat_minor": 2
}
